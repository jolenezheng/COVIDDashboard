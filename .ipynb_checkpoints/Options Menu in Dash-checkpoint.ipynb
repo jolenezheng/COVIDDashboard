{
 "cells": [
  {
   "cell_type": "code",
   "execution_count": null,
   "metadata": {},
   "outputs": [
    {
     "name": "stdout",
     "output_type": "stream",
     "text": [
      "Dash is running on http://127.0.0.1:8050/\n",
      "\n",
      " * Serving Flask app \"__main__\" (lazy loading)\n",
      " * Environment: production\n",
      "   WARNING: This is a development server. Do not use it in a production deployment.\n",
      "   Use a production WSGI server instead.\n",
      " * Debug mode: off\n"
     ]
    },
    {
     "name": "stderr",
     "output_type": "stream",
     "text": [
      " * Running on http://127.0.0.1:8050/ (Press CTRL+C to quit)\n",
      "127.0.0.1 - - [26/Feb/2021 15:25:20] \"\u001b[37mGET / HTTP/1.1\u001b[0m\" 200 -\n",
      "127.0.0.1 - - [26/Feb/2021 15:25:20] \"\u001b[37mGET /_dash-layout HTTP/1.1\u001b[0m\" 200 -\n",
      "127.0.0.1 - - [26/Feb/2021 15:25:20] \"\u001b[37mGET /_dash-dependencies HTTP/1.1\u001b[0m\" 200 -\n",
      "127.0.0.1 - - [26/Feb/2021 15:25:20] \"\u001b[37mPOST /_dash-update-component HTTP/1.1\u001b[0m\" 200 -\n",
      "127.0.0.1 - - [26/Feb/2021 15:25:20] \"\u001b[37mPOST /_dash-update-component HTTP/1.1\u001b[0m\" 200 -\n",
      "127.0.0.1 - - [26/Feb/2021 15:25:22] \"\u001b[37mPOST /_dash-update-component HTTP/1.1\u001b[0m\" 200 -\n",
      "127.0.0.1 - - [26/Feb/2021 15:25:24] \"\u001b[37mPOST /_dash-update-component HTTP/1.1\u001b[0m\" 200 -\n",
      "127.0.0.1 - - [26/Feb/2021 15:25:46] \"\u001b[37mGET /_reload-hash HTTP/1.1\u001b[0m\" 200 -\n"
     ]
    }
   ],
   "source": [
    "import dash\n",
    "import dash_core_components as dcc\n",
    "import dash_html_components as html\n",
    "\n",
    "app = dash.Dash()\n",
    "\n",
    "fnameDict = {    \n",
    "    \"Alberta\": [\"Calgary\",\"Central\",\"Edmonton\",\"North\",\"Not Reported\",\"South\"], \n",
    "    \"British Columbia\":[\"Fraser\",\"Interior\",\"Island\",\"Northern\",\"Not Reported\",\"Vancouver Coastal\"],\n",
    "    \"Manitoba\": [\"Interlake-Eastern\",\"Northern\",\"Not Reported\",\"Prairie Mountain\",\"Southern Health\",\"Winnipeg\"],\n",
    "    \"New Brunswick\": [\"Not Reported\",\"Zone 1 (Moncton area)\",\"Zone 2 (Saint John area)\",\"Zone 3 (Fredericton area)\",\n",
    "                      \"Zone 4 (Edmundston area)\",\"Zone 5 (Campbellton area)\",\"Zone 6 (Bathurst area)\",\"Zone 7 (Miramichi area)\"],\n",
    "    \"Newfoundland and Labrador\": [\"Central\",\"Eastern\",\"Labrador-Grenfell\", \"Not Reported\",\"Western\"],\n",
    "    \"Nunavut\": [\"Nunavut\"], \"Northwest Territories\": [\"NWT\"], \"Ontario\": [\"Algoma\",\"Brant\",\"Chatham-Kent\",\"Durham\",\"Eastern\",\n",
    "                \"Grey Bruce\",\"Haldimand-Norfolk\",\"Haliburton Kawartha Pineridge\",\"Halton\",\"Hamilton\",\"Hastings Prince Edward\",\n",
    "                \"Huron Perth\",\"Kingston Frontenac Lennox & Addington\",\"Lambton\",\"Leeds Grenville and Lanark\",\"Middlesex-London\",\n",
    "                \"Niagara\",\"North Bay Parry Sound\",\"Northwestern\",\"Not Reported\",\"Ottawa\",\"Peel\",\"Peterborough\",\"Porcupine\",\n",
    "                \"Renfrew\",\"Simcoe Muskoka\",\"Southwestern\",\"Sudbury\",\"Thunder Bay\",\"Timiskaming\",\"Toronto\",\"Waterloo\",\n",
    "                \"Wellington Dufferin Guelph\",\"Windsor-Essex\",\"York\"], \"Prince Edward Island\": [\"Prince Edward Island\"],\n",
    "    \"Quebec\": [\"Abitibi-Témiscamingue\",\"Bas-Saint-Laurent\",\"Capitale-Nationale\",\"Chaudière-Appalaches\",\"Côte-Nord\",\n",
    "               \"Estrie\",\"Gaspésie-Îles-de-la-Madeleine\",\"Lanaudière\",\"Laurentides\",\"Laval\",\"Mauricie\",\"Montérégie\",\n",
    "               \"Montréal\",\"Nord-du-Québec\",\"Not Reported\",\"Nunavik\",\"Outaouais\",\"Saguenay\",\"Terres-Cries-de-la-Baie-James\"],\n",
    "    \"Repatriated\": [\"Not Reported\"], \"Saskatchewan\":[\"Central\",\"Far North\",\"North\",\"Not Reported\",\"Regina\",\"Saskatoon\",\"South\"],\n",
    "    \"Yukon\": [\"Yukon\"]\n",
    "}\n",
    "\n",
    "names = list(fnameDict.keys())\n",
    "nestedOptions = fnameDict[names[0]]\n",
    "\n",
    "app.layout = html.Div(\n",
    "    [\n",
    "        html.Div([\n",
    "        dcc.Dropdown(\n",
    "            id='name-dropdown',\n",
    "            options=[{'label':name, 'value':name} for name in names],\n",
    "            value = list(fnameDict.keys())[0]\n",
    "            ),\n",
    "            ],style={'width': '20%', 'display': 'inline-block'}),\n",
    "        html.Div([\n",
    "        dcc.Dropdown(\n",
    "            id='opt-dropdown',\n",
    "            ),\n",
    "            ],style={'width': '20%', 'display': 'inline-block'}\n",
    "        ),\n",
    "        html.Hr(),\n",
    "        html.Div(id='display-selected-values')\n",
    "    ]\n",
    ")\n",
    "\n",
    "@app.callback(\n",
    "    dash.dependencies.Output('opt-dropdown', 'options'),\n",
    "    [dash.dependencies.Input('name-dropdown', 'value')]\n",
    ")\n",
    "def update_date_dropdown(name):\n",
    "    return [{'label': i, 'value': i} for i in fnameDict[name]]\n",
    "\n",
    "@app.callback(\n",
    "    dash.dependencies.Output('display-selected-values', 'children'),\n",
    "    [dash.dependencies.Input('opt-dropdown', 'value')])\n",
    "def set_display_children(selected_value):\n",
    "    return 'The region selected is {}.'.format(selected_value)\n",
    "\n",
    "\n",
    "\n",
    "if __name__ == '__main__':\n",
    "    app.run_server()"
   ]
  },
  {
   "cell_type": "code",
   "execution_count": null,
   "metadata": {},
   "outputs": [],
   "source": []
  }
 ],
 "metadata": {
  "kernelspec": {
   "display_name": "Python 3",
   "language": "python",
   "name": "python3"
  },
  "language_info": {
   "codemirror_mode": {
    "name": "ipython",
    "version": 3
   },
   "file_extension": ".py",
   "mimetype": "text/x-python",
   "name": "python",
   "nbconvert_exporter": "python",
   "pygments_lexer": "ipython3",
   "version": "3.8.5"
  }
 },
 "nbformat": 4,
 "nbformat_minor": 4
}
